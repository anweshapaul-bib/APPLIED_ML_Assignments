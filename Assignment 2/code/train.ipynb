{
 "cells": [
  {
   "cell_type": "code",
   "execution_count": 1,
   "metadata": {},
   "outputs": [],
   "source": [
    "# ! pip install sentence-transformers\n",
    "# ! pip install mlflow"
   ]
  },
  {
   "cell_type": "code",
   "execution_count": 2,
   "metadata": {},
   "outputs": [
    {
     "name": "stderr",
     "output_type": "stream",
     "text": [
      "/Users/paulanwesha01/Library/Python/3.9/lib/python/site-packages/urllib3/__init__.py:34: NotOpenSSLWarning: urllib3 v2 only supports OpenSSL 1.1.1+, currently the 'ssl' module is compiled with 'LibreSSL 2.8.3'. See: https://github.com/urllib3/urllib3/issues/3020\n",
      "  warnings.warn(\n"
     ]
    }
   ],
   "source": [
    "import pandas as pd  \n",
    "import numpy as np \n",
    "from sklearn.utils import resample \n",
    "from sklearn.model_selection import GridSearchCV\n",
    "\n",
    "# Parsing URLs\n",
    "from urllib.parse import urlparse  \n",
    "\n",
    "# SentenceTransformer for text embeddings\n",
    "from sentence_transformers import SentenceTransformer \n",
    "\n",
    "# Scikit-learn for various ML models \n",
    "from sklearn.linear_model import LogisticRegression \n",
    "from sklearn.naive_bayes import MultinomialNB \n",
    "from sklearn.svm import SVC    \n",
    "from sklearn.ensemble import RandomForestClassifier \n",
    "from sklearn.neural_network import MLPClassifier\n",
    "from sklearn.ensemble import StackingClassifier \n",
    "\n",
    "# Evaluation metrics\n",
    "from sklearn.metrics import classification_report, confusion_matrix, accuracy_score, precision_recall_curve, auc   \n",
    "\n",
    "# MLflow for experiment tracking\n",
    "import mlflow \n",
    "\n",
    "# Joblib for saving and loading models\n",
    "import joblib  \n",
    "\n",
    "# Python logging module for logging messages\n",
    "import logging  "
   ]
  },
  {
   "cell_type": "code",
   "execution_count": 3,
   "metadata": {},
   "outputs": [],
   "source": [
    "def convert_text_to_vectors(data, filename):\n",
    "    \"\"\"\n",
    "    Convert text data to sentence vectors using SentenceTransformer model and store in a file.\n",
    "    \"\"\"\n",
    "    model = SentenceTransformer('all-MiniLM-L6-v2')\n",
    "\n",
    "    data = data.replace(np.nan, '', regex=True)\n",
    "    vectors = model.encode(data['text'])\n",
    "\n",
    "    # Store vectors in a file\n",
    "    with open(filename, 'wb') as file:\n",
    "        pickle.dump(vectors, file)\n",
    "\n",
    "    return vectors"
   ]
  },
  {
   "cell_type": "code",
   "execution_count": 4,
   "metadata": {},
   "outputs": [],
   "source": [
    "def train_model(clf, param_grid, train_emb, val_emb, test_emb, y_train, y_val, y_test):\n",
    "    \"\"\"\n",
    "    Train a model with hyperparameter tuning on embedded training data and evaluate performance on validation and test sets.\n",
    "    \"\"\"\n",
    "    # Parameter tuning with validation set\n",
    "    grid_search = GridSearchCV(estimator=clf, param_grid=param_grid, cv=5, scoring='accuracy')\n",
    "    grid_search.fit(val_emb, y_val)\n",
    "    \n",
    "    # Get best parameters\n",
    "    best_params = grid_search.best_params_\n",
    "    \n",
    "    # Train the model on combined training and validation data with best parameters\n",
    "    clf.set_params(**best_params)\n",
    "    clf.fit(train_emb, y_train)\n",
    "\n",
    "    # Make predictions on the test set\n",
    "    y_pred = clf.predict(test_emb)\n",
    "\n",
    "    # Calculate accuracy\n",
    "    acc = accuracy_score(y_test, y_pred)\n",
    "\n",
    "    # Evaluate precision-recall curve AUC for binary classification predictions\n",
    "    precision, recall, thresholds = precision_recall_curve(y_test, y_pred)\n",
    "    aucpr = auc(recall, precision)\n",
    "\n",
    "    return clf, acc, aucpr"
   ]
  },
  {
   "cell_type": "code",
   "execution_count": 5,
   "metadata": {},
   "outputs": [],
   "source": [
    "def log_model_metrics(model, acc, aucpr, model_name):\n",
    "    \"\"\"\n",
    "    Log model metrics and artifacts using MLflow.\n",
    "    \"\"\"\n",
    "    filename = model_name + \".joblib\"\n",
    "    joblib.dump(model, filename)\n",
    "\n",
    "    print(f\"Accuracy: {acc}\")\n",
    "    print(f\"AUCPR: {aucpr}\")\n",
    "\n",
    "    mlflow.sklearn.autolog()\n",
    "\n",
    "    with mlflow.start_run():\n",
    "        mlflow.log_param(\"model\", filename)\n",
    "        mlflow.log_metric(\"accuracy\", acc)\n",
    "        mlflow.log_metric(\"AUCPR\", aucpr)\n",
    "\n",
    "        # Log artifact\n",
    "        mlflow.log_artifact(filename)\n",
    "\n",
    "        mlflow.sklearn.log_model(model, model_name)\n",
    "\n",
    "        # Get the MLflow tracking URI scheme\n",
    "        tracking_url_type_store = urlparse(mlflow.get_tracking_uri()).scheme\n",
    "\n",
    "        mlflow.sklearn.log_model(\n",
    "            sk_model=model,\n",
    "            artifact_path=\"sklearn-model\",\n",
    "            registered_model_name=model_name + \"_Model\"\n",
    "        )"
   ]
  },
  {
   "cell_type": "code",
   "execution_count": 6,
   "metadata": {},
   "outputs": [],
   "source": [
    "def get_model_version(model_name):\n",
    "    \"\"\"\n",
    "    Retrieve the latest version of a model from MLflow by its name.\n",
    "    \"\"\"\n",
    "    client = mlflow.tracking.MlflowClient()\n",
    "    \n",
    "    model_version = client.get_latest_versions(model_name, stages=[\"None\"])[0].version\n",
    "    return model_version"
   ]
  },
  {
   "cell_type": "code",
   "execution_count": null,
   "metadata": {},
   "outputs": [],
   "source": []
  }
 ],
 "metadata": {
  "kernelspec": {
   "display_name": "Python 3",
   "language": "python",
   "name": "python3"
  },
  "language_info": {
   "codemirror_mode": {
    "name": "ipython",
    "version": 3
   },
   "file_extension": ".py",
   "mimetype": "text/x-python",
   "name": "python",
   "nbconvert_exporter": "python",
   "pygments_lexer": "ipython3",
   "version": "3.9.6"
  }
 },
 "nbformat": 4,
 "nbformat_minor": 2
}
