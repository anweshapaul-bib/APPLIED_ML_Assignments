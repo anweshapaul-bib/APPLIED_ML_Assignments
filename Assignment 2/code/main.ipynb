{
 "cells": [
  {
   "cell_type": "markdown",
   "metadata": {},
   "source": [
    "## EXPERIMENT TRACKING\n",
    "\n",
    "#### ANWESHA PAUL <br> MDS202213"
   ]
  },
  {
   "cell_type": "code",
   "execution_count": 13,
   "metadata": {},
   "outputs": [],
   "source": [
    "%run prepare.ipynb\n",
    "%run train.ipynb\n",
    "\n",
    "import pickle\n",
    "import warnings\n",
    "warnings.filterwarnings('ignore')"
   ]
  },
  {
   "cell_type": "code",
   "execution_count": 14,
   "metadata": {},
   "outputs": [
    {
     "name": "stdout",
     "output_type": "stream",
     "text": [
      "Sample of 5 rows from the DataFrame:\n",
      "                                                   text  spam\n",
      "530   Subject: out of office autoreply : just to her...     1\n",
      "713   Subject: innovative and effective design for y...     1\n",
      "1130  Subject: any med for your girl to be happy !  ...     1\n",
      "3664  Subject: re : d - g energy  karla ,  we may us...     0\n",
      "2290  Subject: re : stanford project  nick ,  thanks...     0\n",
      "\n",
      "Shape of the DataFrame: (5728, 2)\n"
     ]
    }
   ],
   "source": [
    "# Loading data\n",
    "raw_data = load_data('emails.csv')"
   ]
  },
  {
   "cell_type": "code",
   "execution_count": 15,
   "metadata": {},
   "outputs": [],
   "source": [
    "# # Set up Git and DVC to track data\n",
    "# git_dvc_setup()"
   ]
  },
  {
   "cell_type": "code",
   "execution_count": 17,
   "metadata": {},
   "outputs": [],
   "source": [
    "# Splitting the data\n",
    "X_train, X_val, X_test, y_train, y_val, y_test = split_data(raw_data, 101) #random state = 101\n",
    "save_data(X_train, X_val, X_test, y_train, y_val, y_test)"
   ]
  },
  {
   "cell_type": "code",
   "execution_count": 18,
   "metadata": {},
   "outputs": [],
   "source": [
    "# track_data(\"Tracking Data for version 1\")"
   ]
  },
  {
   "cell_type": "code",
   "execution_count": 8,
   "metadata": {},
   "outputs": [
    {
     "name": "stdout",
     "output_type": "stream",
     "text": [
      "Updated 0 paths from b086e43\n",
      "Building workspace index                              |5.00 [00:00,  180entry/s]\n",
      "Comparing indexes                                     |5.00 [00:00,  439entry/s]\n",
      "Applying changes                                      |0.00 [00:00,     ?file/s]\n",
      "\u001b[0m\n",
      "Train set:\n",
      "no. of non-spam: 3148 \n",
      "no. of spam: 989\n",
      "\n",
      "Validation set:\n",
      "no. of non-spam: 562 \n",
      "no. of spam: 169\n",
      "\n",
      "Test set:\n",
      "no. of non-spam: 650 \n",
      "no. of spam: 210\n"
     ]
    }
   ],
   "source": [
    "# Checkout first version\n",
    "checkout_version(1)\n",
    "load_and_check_data('Data/Training Data.csv', 'Data/Validation Data.csv', 'Data/Test Data.csv')"
   ]
  },
  {
   "cell_type": "code",
   "execution_count": 19,
   "metadata": {},
   "outputs": [],
   "source": [
    "# Splitting the data again\n",
    "X_train, X_val, X_test, y_train, y_val, y_test = split_data(raw_data, 404) #random state = 404\n",
    "save_data(X_train, X_val, X_test, y_train, y_val, y_test)"
   ]
  },
  {
   "cell_type": "code",
   "execution_count": 20,
   "metadata": {},
   "outputs": [],
   "source": [
    "# track_data(\"Tracking Data for version 2\")"
   ]
  },
  {
   "cell_type": "code",
   "execution_count": 10,
   "metadata": {},
   "outputs": [
    {
     "name": "stdout",
     "output_type": "stream",
     "text": [
      "Updated 0 paths from fb1d46f\n"
     ]
    },
    {
     "name": "stdout",
     "output_type": "stream",
     "text": [
      "Building workspace index                              |5.00 [00:00,  138entry/s]\n",
      "Comparing indexes                                     |5.00 [00:00,  436entry/s]\n",
      "Applying changes                                      |0.00 [00:00,     ?file/s]\n",
      "\u001b[0m\n",
      "Train set:\n",
      "no. of non-spam: 3154 \n",
      "no. of spam: 983\n",
      "\n",
      "Validation set:\n",
      "no. of non-spam: 555 \n",
      "no. of spam: 176\n",
      "\n",
      "Test set:\n",
      "no. of non-spam: 651 \n",
      "no. of spam: 209\n"
     ]
    }
   ],
   "source": [
    "# Checkout second version\n",
    "checkout_version(2)\n",
    "load_and_check_data('Data/Training Data.csv', 'Data/Validation Data.csv', 'Data/Test Data.csv')"
   ]
  },
  {
   "cell_type": "code",
   "execution_count": 5,
   "metadata": {},
   "outputs": [],
   "source": [
    "# Load data\n",
    "train = pd.read_csv(\"Data/Training Data.csv\")\n",
    "val = pd.read_csv(\"Data/Validation Data.csv\")\n",
    "test = pd.read_csv(\"Data/Test Data.csv\")"
   ]
  },
  {
   "cell_type": "code",
   "execution_count": 6,
   "metadata": {},
   "outputs": [],
   "source": [
    "# Set up logging configuration\n",
    "logging.basicConfig(level=logging.WARN)\n",
    "logger = logging.getLogger(__name__)"
   ]
  },
  {
   "cell_type": "code",
   "execution_count": 36,
   "metadata": {},
   "outputs": [],
   "source": [
    "# # Convert text to vectors and store them\n",
    "# convert_text_to_vectors(train, 'train_emb.pkl')\n",
    "# convert_text_to_vectors(val, 'val_emb.pkl')\n",
    "# convert_text_to_vectors(test, 'test_emb.pkl')"
   ]
  },
  {
   "cell_type": "code",
   "execution_count": 3,
   "metadata": {},
   "outputs": [],
   "source": [
    "# Load vectors from files\n",
    "with open('train_emb.pkl', 'rb') as file:\n",
    "    train_emb = pickle.load(file)\n",
    "\n",
    "with open('val_emb.pkl', 'rb') as file:\n",
    "    val_emb = pickle.load(file)\n",
    "\n",
    "with open('test_emb.pkl', 'rb') as file:\n",
    "    test_emb = pickle.load(file)"
   ]
  },
  {
   "cell_type": "markdown",
   "metadata": {},
   "source": [
    "### Train Models\n",
    "\n",
    "#### 1. Logistic Regression"
   ]
  },
  {
   "cell_type": "code",
   "execution_count": 32,
   "metadata": {},
   "outputs": [
    {
     "name": "stdout",
     "output_type": "stream",
     "text": [
      "2024/02/19 17:01:41 INFO mlflow.utils.autologging_utils: Created MLflow autologging run with ID '8c72c25c5754414098ef031ca9d5037d', which will track hyperparameters, performance metrics, model artifacts, and lineage information for the current sklearn workflow\n",
      "2024/02/19 17:01:41 INFO mlflow.sklearn.utils: Logging the 5 best runs, 5 runs for each unique parameter combination, and the 5 best runs for each unique parameter combination. To change this behavior, set the 'log_best_only' and 'log_all' parameters in the logging configuration.\n",
      "Accuracy: 0.9790697674418605\n",
      "AUCPR: 0.9636994332616768\n",
      "Model Version: 1\n",
      "Successfully registered model 'Logistic_Regression_Model'.\n",
      "Created version '1' of model 'Logistic_Regression_Model'.\n"
     ]
    }
   ],
   "source": [
    "model_name = \"Logistic_Regression\"\n",
    "clf = LogisticRegression()\n",
    "\n",
    "param_grid_lr = {\n",
    "    'C': [0.1, 1, 10],\n",
    "    'solver': ['liblinear'], \n",
    "    'penalty': ['l1', 'l2'],\n",
    "    'max_iter': [100, 200, 500]\n",
    "}\n",
    "\n",
    "lr_model, lr_acc, lr_aucpr = train_model(clf, param_grid_lr, train_emb, val_emb, test_emb, train['spam'], val['spam'], test['spam'])\n",
    "log_model_metrics(lr_model, lr_acc, lr_aucpr, model_name)\n",
    "\n",
    "version = get_model_version(model_name + \"_Model\")\n",
    "print(f\"Model Version: {version}\")"
   ]
  },
  {
   "cell_type": "markdown",
   "metadata": {},
   "source": [
    "#### 2. Support Vector Classifier"
   ]
  },
  {
   "cell_type": "code",
   "execution_count": 31,
   "metadata": {},
   "outputs": [
    {
     "name": "stdout",
     "output_type": "stream",
     "text": [
      "2024/02/19 17:03:16 INFO mlflow.utils.autologging_utils: Created MLflow autologging run with ID 'eb05c91928414e27a6c770d6ce144856', which will track hyperparameters, performance metrics, model artifacts, and lineage information for the current sklearn workflow\n",
      "2024/02/19 17:03:32 INFO mlflow.sklearn.utils: Logging the 5 best runs, 19 runs will be omitted.\n",
      "Accuracy: 0.9872093023255814\n",
      "AUCPR: 0.9795168674897935\n",
      "Model Version: 1\n",
      "Successfully registered model 'Support_Vector_Machine_Model'.\n",
      "Created version '1' of model 'Support_Vector_Machine_Model'.\n"
     ]
    }
   ],
   "source": [
    "model_name = \"Support_Vector_Machine\"\n",
    "clf = SVC()\n",
    "\n",
    "param_grid_svc = {\n",
    "    'C': [0.1, 1, 10],\n",
    "    'kernel': ['linear', 'poly', 'rbf', 'sigmoid'],\n",
    "    'gamma': ['scale', 'auto']\n",
    "}\n",
    "\n",
    "svm_model, svm_acc, svm_aucpr = train_model(clf, param_grid_svc, train_emb, val_emb, test_emb, train['spam'], val['spam'], test['spam'])\n",
    "log_model_metrics(svm_model, svm_acc, svm_aucpr, model_name)\n",
    "\n",
    "version = get_model_version(model_name + \"_Model\")\n",
    "print(f\"Model Version: {version}\")"
   ]
  },
  {
   "cell_type": "markdown",
   "metadata": {},
   "source": [
    "#### 3. Random Forest"
   ]
  },
  {
   "cell_type": "code",
   "execution_count": 10,
   "metadata": {},
   "outputs": [
    {
     "name": "stdout",
     "output_type": "stream",
     "text": [
      "2024/02/19 17:24:14 INFO mlflow.utils.autologging_utils: Created MLflow autologging run with ID '87770c7756544a42992c3a7d9d305461', which will track hyperparameters, performance metrics, model artifacts, and lineage information for the current sklearn workflow\n",
      "2024/02/19 17:24:01 INFO mlflow.sklearn.utils: Logging the 5 best runs, 13 runs will be omitted.\n",
      "Accuracy: 0.9630232558139535\n",
      "AUCPR: 0.9493602134299807\n",
      "Model Version: 1\n",
      "Successfully registered model 'Random_Forest_Model'.\n",
      "Created version '1' of model 'Random_Forest_Model'.\n"
     ]
    }
   ],
   "source": [
    "model_name = \"Random_Forest\"\n",
    "clf = RandomForestClassifier(n_estimators=300, max_depth=6, random_state=101)\n",
    "\n",
    "param_grid_rf = {\n",
    "    'n_estimators': [100, 200, 300],\n",
    "    'max_depth': [None, 6, 8, 10],\n",
    "    'min_samples_split': [2, 5, 10],\n",
    "    'min_samples_leaf': [1, 2, 4],\n",
    "    'bootstrap': [True, False]\n",
    "}\n",
    "\n",
    "rf_model, rf_acc, rf_aucpr = train_model(clf, param_grid_rf, train_emb, val_emb, test_emb, train['spam'], val['spam'], test['spam'])\n",
    "log_model_metrics(rf_model, rf_acc, rf_aucpr, model_name)\n",
    "\n",
    "version = get_model_version(model_name + \"_Model\")\n",
    "print(f\"Model Version: {version}\")"
   ]
  },
  {
   "cell_type": "markdown",
   "metadata": {},
   "source": [
    "**CONCLUSION**: The SVM model demonstrated superior performance with the highest accuracy (98.72%) and AUCPR (0.9795) among the three models, indicating its effectiveness in this classification task."
   ]
  },
  {
   "cell_type": "markdown",
   "metadata": {},
   "source": [
    "### Ensemble Modeling: Stacking Classifier"
   ]
  },
  {
   "cell_type": "code",
   "execution_count": 11,
   "metadata": {},
   "outputs": [
    {
     "name": "stdout",
     "output_type": "stream",
     "text": [
      "2024/02/19 17:30:34 INFO mlflow.utils.autologging_utils: Created MLflow autologging run with ID '87770c7756544a42992c3a7d9d305461', which will track hyperparameters, performance metrics, model artifacts, and lineage information for the current sklearn workflow\n",
      "2024/02/19 17:36:41 INFO mlflow.sklearn.utils: Logging the 5 best runs, 13 runs will be omitted.\n",
      "Accuracy: 0.9892093023255814\n",
      "AUCPR: 0.981328739186211\n",
      "Model Version: 1\n",
      "Successfully registered model 'Stacking_Classifier_Model'.\n",
      "Created version '1' of model 'Stacking_Classifier_Model'.\n"
     ]
    }
   ],
   "source": [
    "model_name = \"Stacking_Classifier\"\n",
    "\n",
    "estimators = [('lr', LogisticRegression()),\n",
    "              ('svm', SVC()),\n",
    "              ('rf', RandomForestClassifier(n_estimators=100, random_state=101))]\n",
    "\n",
    "clf = StackingClassifier(estimators=estimators, final_estimator = LogisticRegression())\n",
    "\n",
    "param_grid_stack = {\n",
    "    'stack_method': ['auto', 'predict_proba'],\n",
    "    'final_estimator': [LogisticRegression(), RandomForestClassifier()],\n",
    "    'final_estimator__max_iter': [100, 200, 500],\n",
    "    'cv': [2, 3, 5],\n",
    "    'passthrough': [False, True]\n",
    "}\n",
    "\n",
    "stacking_model, stacking_acc, stacking_aucpr = train_model(clf, param_grid_stack, train_emb, val_emb, test_emb, train['spam'], val['spam'], test['spam'])\n",
    "log_model_metrics(stacking_model, stacking_acc, stacking_aucpr, model_name)\n",
    "\n",
    "version = get_model_version(model_name + \"_Model\")\n",
    "print(f\"Model Version: {version}\")"
   ]
  },
  {
   "cell_type": "code",
   "execution_count": null,
   "metadata": {},
   "outputs": [],
   "source": []
  }
 ],
 "metadata": {
  "kernelspec": {
   "display_name": "Python 3",
   "language": "python",
   "name": "python3"
  },
  "language_info": {
   "codemirror_mode": {
    "name": "ipython",
    "version": 3
   },
   "file_extension": ".py",
   "mimetype": "text/x-python",
   "name": "python",
   "nbconvert_exporter": "python",
   "pygments_lexer": "ipython3",
   "version": "3.9.6"
  }
 },
 "nbformat": 4,
 "nbformat_minor": 2
}
