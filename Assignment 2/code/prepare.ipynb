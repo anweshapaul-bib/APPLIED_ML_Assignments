{
 "cells": [
  {
   "cell_type": "code",
   "execution_count": 2,
   "metadata": {},
   "outputs": [],
   "source": [
    "%matplotlib inline\n",
    "import matplotlib.pyplot as plt\n",
    "import pandas as pd\n",
    "import numpy as np\n",
    "\n",
    "from sklearn.model_selection import train_test_split\n",
    "from sklearn.utils import resample"
   ]
  },
  {
   "cell_type": "code",
   "execution_count": 3,
   "metadata": {},
   "outputs": [],
   "source": [
    "def load_data(csv_file):\n",
    "    \"\"\"\n",
    "    Load a CSV file into a df.\n",
    "    \"\"\"\n",
    "    try:\n",
    "        df = pd.read_csv(csv_file)\n",
    "\n",
    "        print(\"Sample of 5 rows from the DataFrame:\")\n",
    "        print(df.sample(5))\n",
    "        \n",
    "        print(\"\\nShape of the DataFrame:\", df.shape)\n",
    "\n",
    "        return df\n",
    "        \n",
    "    except (FileNotFoundError, pd.errors.EmptyDataError, pd.errors.ParserError) as e:\n",
    "        print(f\"Error: {e}\")"
   ]
  },
  {
   "cell_type": "code",
   "execution_count": 4,
   "metadata": {},
   "outputs": [],
   "source": [
    "def split_data(raw_data, random_state=101):\n",
    "    \"\"\"\n",
    "    Split the data into Training, Validation, and Test sets.\n",
    "    \"\"\"\n",
    "    X_train, X_test, y_train, y_test = train_test_split(raw_data.text, raw_data['spam'], test_size=0.15, random_state=random_state)\n",
    "    X_train, X_val, y_train, y_val = train_test_split(X_train, y_train, test_size=0.15, random_state=random_state)\n",
    "    \n",
    "    return X_train, X_val, X_test, y_train, y_val, y_test"
   ]
  },
  {
   "cell_type": "code",
   "execution_count": 5,
   "metadata": {},
   "outputs": [],
   "source": [
    "def save_data(X_train, X_val, X_test, y_train, y_val, y_test):\n",
    "    \"\"\"\n",
    "    Save the split datasets to CSV files.\n",
    "    \"\"\"\n",
    "    df_train = pd.DataFrame(list(zip(X_train, y_train)), columns=[\"text\", 'spam'])\n",
    "    df_test = pd.DataFrame(list(zip(X_test, y_test)), columns=[\"text\", 'spam'])\n",
    "    df_val = pd.DataFrame(list(zip(X_val, y_val)), columns=[\"text\", 'spam'])\n",
    "    \n",
    "    df_val.to_csv('Data/Validation Data.csv', index=False) \n",
    "    df_test.to_csv('Data/Test Data.csv', index=False) \n",
    "    df_train.to_csv('Data/Training Data.csv', index=False) "
   ]
  },
  {
   "cell_type": "code",
   "execution_count": 6,
   "metadata": {},
   "outputs": [],
   "source": [
    "def git_dvc_setup():\n",
    "    \"\"\"\n",
    "    Set up Git and DVC to track data.\n",
    "    \"\"\"\n",
    "    ! pip install dvc\n",
    "    ! git init\n",
    "    ! dvc init"
   ]
  },
  {
   "cell_type": "code",
   "execution_count": null,
   "metadata": {},
   "outputs": [],
   "source": [
    "def track_data(commit_message):\n",
    "    \"\"\"\n",
    "    Track data using DVC and Git.\n",
    "    \"\"\"\n",
    "    ! dvc add Data\n",
    "    ! git add Data.dvc\n",
    "    ! git commit -m \"{commit_message}\"\n",
    "    ! dvc remote add -d storage gdrive://1egzIHd_vdcJDZBtnH3VlRhVcnwazkPvs\n",
    "    ! dvc push"
   ]
  },
  {
   "cell_type": "code",
   "execution_count": 7,
   "metadata": {},
   "outputs": [],
   "source": [
    "def checkout_version(version_number):\n",
    "    \"\"\"\n",
    "    Checkout a specific version of the data using DVC.\n",
    "    \"\"\"\n",
    "    ! git checkout HEAD Data.dvc \n",
    "    ! dvc checkout"
   ]
  },
  {
   "cell_type": "code",
   "execution_count": 9,
   "metadata": {},
   "outputs": [],
   "source": [
    "def load_and_check_data(train_path, val_path, test_path):\n",
    "    '''\n",
    "    Load data from CSV files and print the counts of each label in the training, validation, and test sets.\n",
    "    '''\n",
    "\n",
    "    print('\\nTrain set:')\n",
    "    train = pd.read_csv(train_path)\n",
    "    print('no. of non-spam:', train['spam'].value_counts()[0], '\\nno. of spam:', train['spam'].value_counts()[1])\n",
    "\n",
    "    print('\\nValidation set:')\n",
    "    val = pd.read_csv(val_path)\n",
    "    print('no. of non-spam:', val['spam'].value_counts()[0], '\\nno. of spam:', val['spam'].value_counts()[1])\n",
    "\n",
    "    print('\\nTest set:')\n",
    "    test = pd.read_csv(test_path)\n",
    "    print('no. of non-spam:', test['spam'].value_counts()[0], '\\nno. of spam:', test['spam'].value_counts()[1])"
   ]
  },
  {
   "cell_type": "code",
   "execution_count": 11,
   "metadata": {},
   "outputs": [],
   "source": []
  }
 ],
 "metadata": {
  "kernelspec": {
   "display_name": "Python 3",
   "language": "python",
   "name": "python3"
  },
  "language_info": {
   "codemirror_mode": {
    "name": "ipython",
    "version": 3
   },
   "file_extension": ".py",
   "mimetype": "text/x-python",
   "name": "python",
   "nbconvert_exporter": "python",
   "pygments_lexer": "ipython3",
   "version": "3.9.6"
  }
 },
 "nbformat": 4,
 "nbformat_minor": 2
}
